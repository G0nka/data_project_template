{
 "cells": [
  {
   "cell_type": "code",
   "execution_count": 4,
   "metadata": {},
   "outputs": [
    {
     "name": "stdout",
     "output_type": "stream",
     "text": [
      "10\n",
      "3\n",
      "2.5\n"
     ]
    },
    {
     "data": {
      "text/plain": [
       "2.5"
      ]
     },
     "execution_count": 4,
     "metadata": {},
     "output_type": "execute_result"
    }
   ],
   "source": [
    "import numpy as np\n",
    "\n",
    "def compute(operation, *args):\n",
    "    \"\"\"\n",
    "    Given two or more numbers compute its addition, or multiplication.\n",
    "    Given two numbers, compute addition, subtraction, multiplication or division.\n",
    "    \n",
    "    Parameters:\n",
    "        x: Integer\n",
    "        y: Integer\n",
    "        operation: String. \"add\", \"sub\", \"mul\", \"div\"\n",
    "    \n",
    "    Returns:\n",
    "        Result's computation. Float\n",
    "    \"\"\"\n",
    "    \n",
    "    # --- Error handling ---\n",
    "    \n",
    "    # Operation argument should be one of the following: \"add\", \"sub\", \"mul\" or \"div\"\n",
    "    if operation.lower() not in [\"add\", \"sub\", \"mul\", \"div\"]:\n",
    "        raise ValueError(\"Operation parameter should be one of the following add, sub, mul or div\")\n",
    "        \n",
    "    # Numbers should be all integers \n",
    "    if not all(isinstance(number, int) for number in args):\n",
    "        raise TypeError(\"args values should be all integer\")\n",
    "\n",
    "    \n",
    "    # --- Main ---\n",
    "    \n",
    "    # Subtraction\n",
    "    if len(args) == 2 and operation.lower() == \"sub\":\n",
    "        x, y = args\n",
    "        print(x - y)\n",
    "        return float(x - y)\n",
    "    elif len(args) != 2 and operation.lower() == \"sub\":\n",
    "        raise ValueError(\"args should be two numbers\")\n",
    "    \n",
    "    # Division\n",
    "    if len(args) == 2 and operation.lower() == \"div\":\n",
    "        x, y = args\n",
    "        print(x / y)\n",
    "        return float(x / y)\n",
    "    elif len(args) != 2 and operation.lower() == \"div\":\n",
    "        raise ValueError(\"args should be two numbers\")\n",
    "    \n",
    "    # Addition\n",
    "    if len(args) > 1 and operation.lower() == \"add\":\n",
    "        res = sum(args)\n",
    "        print(res)\n",
    "        return float(res)\n",
    "    \n",
    "    # Multiplication\n",
    "    if len(args) > 1 and operation == \"mult\":\n",
    "        res = np.prod(args)\n",
    "        print(res)\n",
    "        return float(res)\n",
    "        \n",
    "        \n",
    "compute(\"add\", 5,2,3)\n",
    "compute(\"sub\", 5,2)\n",
    "compute(\"Mul\", 5,2,3)\n",
    "compute(\"div\", 5,2)\n"
   ]
  },
  {
   "cell_type": "code",
   "execution_count": null,
   "metadata": {},
   "outputs": [],
   "source": []
  }
 ],
 "metadata": {
  "kernelspec": {
   "display_name": "Python 3",
   "language": "python",
   "name": "python3"
  },
  "language_info": {
   "codemirror_mode": {
    "name": "ipython",
    "version": 3
   },
   "file_extension": ".py",
   "mimetype": "text/x-python",
   "name": "python",
   "nbconvert_exporter": "python",
   "pygments_lexer": "ipython3",
   "version": "3.8.5"
  }
 },
 "nbformat": 4,
 "nbformat_minor": 4
}
